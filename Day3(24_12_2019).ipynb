{
  "nbformat": 4,
  "nbformat_minor": 0,
  "metadata": {
    "colab": {
      "name": "Day3(24/12/2019).ipynb",
      "provenance": []
    },
    "kernelspec": {
      "name": "python3",
      "display_name": "Python 3"
    }
  },
  "cells": [
    {
      "cell_type": "markdown",
      "metadata": {
        "id": "7Mdi05UVYlfo",
        "colab_type": "text"
      },
      "source": [
        "#python programming\n",
        "##python programming\n",
        "###python programming\n",
        "####python programming\n",
        "#####python programming\n"
      ]
    },
    {
      "cell_type": "code",
      "metadata": {
        "id": "OFl77-dEZJlO",
        "colab_type": "code",
        "colab": {}
      },
      "source": [
        ""
      ],
      "execution_count": 0,
      "outputs": []
    },
    {
      "cell_type": "markdown",
      "metadata": {
        "id": "Qt4TLn8uZY8A",
        "colab_type": "text"
      },
      "source": [
        "1. a\n",
        "2. b\n",
        "3. c\n",
        "  1. d\n",
        "  2. e\n",
        "  3. f"
      ]
    },
    {
      "cell_type": "markdown",
      "metadata": {
        "id": "xvg7LexXb2cY",
        "colab_type": "text"
      },
      "source": [
        "[python](https://www.geeksforgeeks.org/)"
      ]
    },
    {
      "cell_type": "code",
      "metadata": {
        "id": "qI4y_YSOccP4",
        "colab_type": "code",
        "colab": {}
      },
      "source": [
        ""
      ],
      "execution_count": 0,
      "outputs": []
    },
    {
      "cell_type": "markdown",
      "metadata": {
        "id": "Nw3K7EN-cu2W",
        "colab_type": "text"
      },
      "source": [
        "![image](https://encrypted-tbn0.gstatic.com/images?q=tbn:ANd9GcTBA9lsT3WJIBrsy5faeIH7BarGscmnFxb5wG76yUwZ6u4LoA0n&s)"
      ]
    },
    {
      "cell_type": "markdown",
      "metadata": {
        "id": "uDMIEeXvddnY",
        "colab_type": "text"
      },
      "source": [
        "\n",
        "\n",
        "-   abc\n",
        "-   def\n",
        "\n"
      ]
    },
    {
      "cell_type": "code",
      "metadata": {
        "id": "6hk7I_SoiBVH",
        "colab_type": "code",
        "colab": {
          "base_uri": "https://localhost:8080/",
          "height": 35
        },
        "outputId": "af934d68-b7a8-408c-ba1a-930407f1371d"
      },
      "source": [
        "print(\"Hello world!\")"
      ],
      "execution_count": 1,
      "outputs": [
        {
          "output_type": "stream",
          "text": [
            "Hello world!\n"
          ],
          "name": "stdout"
        }
      ]
    },
    {
      "cell_type": "code",
      "metadata": {
        "id": "E4TEMIJWigCJ",
        "colab_type": "code",
        "colab": {
          "base_uri": "https://localhost:8080/",
          "height": 35
        },
        "outputId": "0edb5637-2190-4eff-846d-aaf7d5d9f725"
      },
      "source": [
        "a=10.78\n",
        "b=20\n",
        "print(type(a),type(b))"
      ],
      "execution_count": 4,
      "outputs": [
        {
          "output_type": "stream",
          "text": [
            "<class 'float'> <class 'int'>\n"
          ],
          "name": "stdout"
        }
      ]
    },
    {
      "cell_type": "code",
      "metadata": {
        "id": "2C1-gl--jzsQ",
        "colab_type": "code",
        "colab": {
          "base_uri": "https://localhost:8080/",
          "height": 69
        },
        "outputId": "0339c885-d027-446c-f60d-ced267ca1fed"
      },
      "source": [
        "a=int(input(\"enter a value\"))\n",
        "b=int(input(\"enter b value\"))\n",
        "print(a+b)"
      ],
      "execution_count": 6,
      "outputs": [
        {
          "output_type": "stream",
          "text": [
            "enter a value10\n",
            "enter b value20\n",
            "30\n"
          ],
          "name": "stdout"
        }
      ]
    },
    {
      "cell_type": "code",
      "metadata": {
        "id": "2X_hX5DhdV-1",
        "colab_type": "code",
        "colab": {}
      },
      "source": [
        ""
      ],
      "execution_count": 0,
      "outputs": []
    },
    {
      "cell_type": "code",
      "metadata": {
        "id": "HaIYJ6Iak5qF",
        "colab_type": "code",
        "colab": {
          "base_uri": "https://localhost:8080/",
          "height": 69
        },
        "outputId": "350a88ed-5e6f-46d7-a759-bb403b36f776"
      },
      "source": [
        "a=input(\"Enter name:\")\n",
        "b=input(\"Enter age:\")\n",
        "print(\"My name is \" +a+ \" and age is\",b)"
      ],
      "execution_count": 8,
      "outputs": [
        {
          "output_type": "stream",
          "text": [
            "Enter name:nidhi\n",
            "Enter age:19\n",
            "My name is nidhi and age is 19\n"
          ],
          "name": "stdout"
        }
      ]
    },
    {
      "cell_type": "code",
      "metadata": {
        "id": "Afm1J9ScmJpD",
        "colab_type": "code",
        "colab": {}
      },
      "source": [
        ""
      ],
      "execution_count": 0,
      "outputs": []
    },
    {
      "cell_type": "code",
      "metadata": {
        "id": "0BvyWMS0n6yQ",
        "colab_type": "code",
        "colab": {
          "base_uri": "https://localhost:8080/",
          "height": 69
        },
        "outputId": "fe206fc0-dfe7-4744-d524-1c73bdf8fa67"
      },
      "source": [
        "name=input(\"enter name\")\n",
        "age=input(\"enter age\")\n",
        "print(\"my name is\",name,end=\" \")\n",
        "print(\"and age is\",age)"
      ],
      "execution_count": 9,
      "outputs": [
        {
          "output_type": "stream",
          "text": [
            "enter namenidhi\n",
            "enter age20\n",
            "my name is nidhi and age is 20\n"
          ],
          "name": "stdout"
        }
      ]
    },
    {
      "cell_type": "code",
      "metadata": {
        "id": "G90J1NXCpXCB",
        "colab_type": "code",
        "colab": {
          "base_uri": "https://localhost:8080/",
          "height": 243
        },
        "outputId": "d5fcb42c-a32e-4574-ad9e-06cf2c46bc9a"
      },
      "source": [
        "help(\"keywords\")"
      ],
      "execution_count": 10,
      "outputs": [
        {
          "output_type": "stream",
          "text": [
            "\n",
            "Here is a list of the Python keywords.  Enter any keyword to get more help.\n",
            "\n",
            "False               def                 if                  raise\n",
            "None                del                 import              return\n",
            "True                elif                in                  try\n",
            "and                 else                is                  while\n",
            "as                  except              lambda              with\n",
            "assert              finally             nonlocal            yield\n",
            "break               for                 not                 \n",
            "class               from                or                  \n",
            "continue            global              pass                \n",
            "\n"
          ],
          "name": "stdout"
        }
      ]
    },
    {
      "cell_type": "code",
      "metadata": {
        "id": "EooEJDJGoJOL",
        "colab_type": "code",
        "colab": {}
      },
      "source": [
        ""
      ],
      "execution_count": 0,
      "outputs": []
    }
  ]
}